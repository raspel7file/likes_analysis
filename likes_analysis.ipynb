{
 "cells": [
  {
   "cell_type": "markdown",
   "id": "a03c8e5a-b161-4288-9c3d-594119fb293e",
   "metadata": {},
   "source": [
    "# Задача\n",
    "Взять страницу Вконтакте, собрать по ней таблицу с датой постов и количеством лайков и ответить на вопрос: что больше всего влияет на количество лайков: время суток публикации, день недели или промежуток между постами?"
   ]
  },
  {
   "cell_type": "code",
   "execution_count": 79,
   "id": "bcfdbba9-2fb3-4eb8-8e3f-04ecd33202de",
   "metadata": {},
   "outputs": [],
   "source": [
    "import requests\n",
    "import os\n",
    "import pandas as pd\n",
    "import numpy as np\n",
    "import scipy.stats as ss\n",
    "import statsmodels.api as sm\n",
    "from statsmodels.formula.api import ols\n",
    "import pingouin as pg\n",
    "import seaborn as sns\n",
    "import matplotlib.pyplot as plt\n",
    "\n",
    "\n",
    "%matplotlib inline"
   ]
  },
  {
   "cell_type": "markdown",
   "id": "d408c58c-17c5-40e2-a4d6-0c34182c536e",
   "metadata": {},
   "source": [
    "## Парсинг данных из ВК\n",
    "Сначала вытащим из ВК необходимые данные. Моя страница не активна, так что возьмём последние 1000 постов из группы Северодвинск life (https://vk.com/severodvinsk_life)"
   ]
  },
  {
   "cell_type": "code",
   "execution_count": 11,
   "id": "95df7658-46db-4c9b-a519-7504d9489694",
   "metadata": {},
   "outputs": [],
   "source": [
    "# Чтение токена доступа из файла\n",
    "with open('token.txt', 'r') as file:\n",
    "    access_token = file.read().strip()  # Читаем токен и убираем лишние пробелы и символы новой строки\n",
    "    \n",
    "# ID группы или пользователя\n",
    "owner_id = '-39644772'\n",
    "\n",
    "# Параметры для запроса\n",
    "count = 100  # Максимальное количество постов за один запрос\n",
    "total_posts = 1000  # Общее количество постов, которые нужно получить\n",
    "offset = 0   # Начальное значение offset"
   ]
  },
  {
   "cell_type": "code",
   "execution_count": 12,
   "id": "8acbc6da-1a70-4d10-9a9c-367a2403f234",
   "metadata": {},
   "outputs": [],
   "source": [
    "# Списки для хранения данных\n",
    "post_times = []\n",
    "like_counts = []\n",
    "\n",
    "while len(post_times) < total_posts:\n",
    "    # URL для запроса\n",
    "    url = f'https://api.vk.com/method/wall.get?owner_id={owner_id}&count={count}&offset={offset}&access_token={access_token}&v=5.131'\n",
    "    \n",
    "    # Выполняем запрос\n",
    "    response = requests.get(url)\n",
    "    data = response.json()\n",
    "\n",
    "    # Проверяем наличие ошибок\n",
    "    if 'error' in data:\n",
    "        print('Ошибка:', data['error']['error_msg'])\n",
    "        break\n",
    "\n",
    "    # Извлекаем посты\n",
    "    posts = data['response']['items']\n",
    "    \n",
    "    # Если постов больше нет, выходим из цикла\n",
    "    if not posts:\n",
    "        break\n",
    "\n",
    "    # Извлекаем время и количество лайков\n",
    "    for post in posts:\n",
    "        post_times.append(post['date'])  # Время поста (timestamp)\n",
    "        like_counts.append(post['likes']['count'])  # Количество лайков\n",
    "        \n",
    "        # Проверяем, достигли ли мы лимита\n",
    "        if len(post_times) >= total_posts:\n",
    "            break\n",
    "\n",
    "    # Увеличиваем offset для следующего запроса\n",
    "    offset += count\n",
    "\n",
    "# Создаем DataFrame\n",
    "df = pd.DataFrame({\n",
    "    'post_time': post_times[:total_posts],  # Ограничиваем до 1000 постов\n",
    "    'like_count': like_counts[:total_posts]  # Ограничиваем до 1000 постов\n",
    "})"
   ]
  },
  {
   "cell_type": "code",
   "execution_count": 53,
   "id": "54ac9d1a-dc37-45fb-aa5d-056c3cc9030e",
   "metadata": {},
   "outputs": [
    {
     "name": "stdout",
     "output_type": "stream",
     "text": [
      "Файл 'posts_data.csv' уже существует.\n"
     ]
    }
   ],
   "source": [
    "# Зададим имя файла\n",
    "file_name = 'posts_data.csv'\n",
    "\n",
    "# Проверка на наличие файла\n",
    "if os.path.exists(file_name):\n",
    "    print(f\"Файл '{file_name}' уже существует.\")\n",
    "else:\n",
    "    # Сохранение DataFrame в CSV файл\n",
    "    df.to_csv(file_name, index=False, encoding='utf-8')\n",
    "    print(f\"Данные успешно сохранены в '{file_name}'\")"
   ]
  },
  {
   "cell_type": "markdown",
   "id": "2edc9b60-01d1-46f5-b8aa-8ba8c03b5fb1",
   "metadata": {},
   "source": [
    "## Анализ данных\n",
    "Нам предлагается по заданию проанализировать эти данные с помощью SQL-запросов. Однако, мне кажется, гораздо удобнее сделать это тут же, в Python."
   ]
  },
  {
   "cell_type": "code",
   "execution_count": 54,
   "id": "1df69014-59b1-4075-93e9-9edf166ca5bf",
   "metadata": {},
   "outputs": [
    {
     "data": {
      "text/html": [
       "<div>\n",
       "<style scoped>\n",
       "    .dataframe tbody tr th:only-of-type {\n",
       "        vertical-align: middle;\n",
       "    }\n",
       "\n",
       "    .dataframe tbody tr th {\n",
       "        vertical-align: top;\n",
       "    }\n",
       "\n",
       "    .dataframe thead th {\n",
       "        text-align: right;\n",
       "    }\n",
       "</style>\n",
       "<table border=\"1\" class=\"dataframe\">\n",
       "  <thead>\n",
       "    <tr style=\"text-align: right;\">\n",
       "      <th></th>\n",
       "      <th>post_time</th>\n",
       "      <th>like_count</th>\n",
       "    </tr>\n",
       "  </thead>\n",
       "  <tbody>\n",
       "    <tr>\n",
       "      <th>0</th>\n",
       "      <td>2024-09-18 10:09:16</td>\n",
       "      <td>4</td>\n",
       "    </tr>\n",
       "    <tr>\n",
       "      <th>1</th>\n",
       "      <td>2024-09-18 09:34:20</td>\n",
       "      <td>35</td>\n",
       "    </tr>\n",
       "    <tr>\n",
       "      <th>2</th>\n",
       "      <td>2024-09-18 07:00:00</td>\n",
       "      <td>3</td>\n",
       "    </tr>\n",
       "    <tr>\n",
       "      <th>3</th>\n",
       "      <td>2024-09-18 05:41:00</td>\n",
       "      <td>8</td>\n",
       "    </tr>\n",
       "    <tr>\n",
       "      <th>4</th>\n",
       "      <td>2024-09-18 04:05:00</td>\n",
       "      <td>51</td>\n",
       "    </tr>\n",
       "  </tbody>\n",
       "</table>\n",
       "</div>"
      ],
      "text/plain": [
       "            post_time  like_count\n",
       "0 2024-09-18 10:09:16           4\n",
       "1 2024-09-18 09:34:20          35\n",
       "2 2024-09-18 07:00:00           3\n",
       "3 2024-09-18 05:41:00           8\n",
       "4 2024-09-18 04:05:00          51"
      ]
     },
     "execution_count": 54,
     "metadata": {},
     "output_type": "execute_result"
    }
   ],
   "source": [
    "# Возьмём данные из сохранённого файла и приведём их к удобному для анализа виду\n",
    "data = pd.read_csv(file_name)\n",
    "data['post_time'] = pd.to_datetime(data['post_time'], unit='s')\n",
    "data.head()"
   ]
  },
  {
   "cell_type": "code",
   "execution_count": 55,
   "id": "7e6b862f-840e-4a79-826d-8b31f4102a58",
   "metadata": {},
   "outputs": [
    {
     "name": "stdout",
     "output_type": "stream",
     "text": [
      "<class 'pandas.core.frame.DataFrame'>\n",
      "RangeIndex: 1000 entries, 0 to 999\n",
      "Data columns (total 2 columns):\n",
      " #   Column      Non-Null Count  Dtype         \n",
      "---  ------      --------------  -----         \n",
      " 0   post_time   1000 non-null   datetime64[ns]\n",
      " 1   like_count  1000 non-null   int64         \n",
      "dtypes: datetime64[ns](1), int64(1)\n",
      "memory usage: 15.8 KB\n"
     ]
    }
   ],
   "source": [
    "data.info()"
   ]
  },
  {
   "cell_type": "code",
   "execution_count": 56,
   "id": "22f02e17-1990-4e8c-8de9-de256db85753",
   "metadata": {},
   "outputs": [],
   "source": [
    "# Функция для определения времени суток\n",
    "def get_time_of_day(hour):\n",
    "    if 6 <= hour < 11:\n",
    "        return 'Утро'\n",
    "    elif 11 <= hour < 18:\n",
    "        return 'День'\n",
    "    elif 18 <= hour < 23:\n",
    "        return 'Вечер'\n",
    "    else:\n",
    "        return 'Ночь'\n",
    "\n",
    "# Применяем функцию к столбцу 'post_time' и создаем новый столбец 'time_of_day'\n",
    "data['time_of_day'] = data['post_time'].dt.hour.apply(get_time_of_day)"
   ]
  },
  {
   "cell_type": "code",
   "execution_count": 57,
   "id": "5a1463eb-ba5f-41c6-a0a6-17b641e0d3c2",
   "metadata": {},
   "outputs": [],
   "source": [
    "# Добавляем новый столбец 'day_of_week' с названием дня недели\n",
    "data['day_of_week'] = data['post_time'].dt.day_name()"
   ]
  },
  {
   "cell_type": "code",
   "execution_count": 58,
   "id": "815ba6e7-a877-4f50-8b70-23906d40b29e",
   "metadata": {},
   "outputs": [],
   "source": [
    "# Вычисляем разницу во времени с предыдущим постом (в секундах)\n",
    "data['time_since_next_post'] = (data['post_time'] - data['post_time'].shift(-1)).dt.total_seconds()"
   ]
  },
  {
   "cell_type": "code",
   "execution_count": 59,
   "id": "6f228661-b68c-4291-97ae-fca3e3595e44",
   "metadata": {},
   "outputs": [
    {
     "data": {
      "text/html": [
       "<div>\n",
       "<style scoped>\n",
       "    .dataframe tbody tr th:only-of-type {\n",
       "        vertical-align: middle;\n",
       "    }\n",
       "\n",
       "    .dataframe tbody tr th {\n",
       "        vertical-align: top;\n",
       "    }\n",
       "\n",
       "    .dataframe thead th {\n",
       "        text-align: right;\n",
       "    }\n",
       "</style>\n",
       "<table border=\"1\" class=\"dataframe\">\n",
       "  <thead>\n",
       "    <tr style=\"text-align: right;\">\n",
       "      <th></th>\n",
       "      <th>post_time</th>\n",
       "      <th>like_count</th>\n",
       "      <th>time_of_day</th>\n",
       "      <th>day_of_week</th>\n",
       "      <th>time_since_next_post</th>\n",
       "    </tr>\n",
       "  </thead>\n",
       "  <tbody>\n",
       "    <tr>\n",
       "      <th>0</th>\n",
       "      <td>2024-09-18 10:09:16</td>\n",
       "      <td>4</td>\n",
       "      <td>Утро</td>\n",
       "      <td>Wednesday</td>\n",
       "      <td>2096.0</td>\n",
       "    </tr>\n",
       "    <tr>\n",
       "      <th>1</th>\n",
       "      <td>2024-09-18 09:34:20</td>\n",
       "      <td>35</td>\n",
       "      <td>Утро</td>\n",
       "      <td>Wednesday</td>\n",
       "      <td>9260.0</td>\n",
       "    </tr>\n",
       "    <tr>\n",
       "      <th>2</th>\n",
       "      <td>2024-09-18 07:00:00</td>\n",
       "      <td>3</td>\n",
       "      <td>Утро</td>\n",
       "      <td>Wednesday</td>\n",
       "      <td>4740.0</td>\n",
       "    </tr>\n",
       "    <tr>\n",
       "      <th>3</th>\n",
       "      <td>2024-09-18 05:41:00</td>\n",
       "      <td>8</td>\n",
       "      <td>Ночь</td>\n",
       "      <td>Wednesday</td>\n",
       "      <td>5760.0</td>\n",
       "    </tr>\n",
       "    <tr>\n",
       "      <th>4</th>\n",
       "      <td>2024-09-18 04:05:00</td>\n",
       "      <td>51</td>\n",
       "      <td>Ночь</td>\n",
       "      <td>Wednesday</td>\n",
       "      <td>3600.0</td>\n",
       "    </tr>\n",
       "    <tr>\n",
       "      <th>...</th>\n",
       "      <td>...</td>\n",
       "      <td>...</td>\n",
       "      <td>...</td>\n",
       "      <td>...</td>\n",
       "      <td>...</td>\n",
       "    </tr>\n",
       "    <tr>\n",
       "      <th>995</th>\n",
       "      <td>2024-07-21 19:59:22</td>\n",
       "      <td>93</td>\n",
       "      <td>Вечер</td>\n",
       "      <td>Sunday</td>\n",
       "      <td>4089.0</td>\n",
       "    </tr>\n",
       "    <tr>\n",
       "      <th>996</th>\n",
       "      <td>2024-07-21 18:51:13</td>\n",
       "      <td>55</td>\n",
       "      <td>Вечер</td>\n",
       "      <td>Sunday</td>\n",
       "      <td>20471.0</td>\n",
       "    </tr>\n",
       "    <tr>\n",
       "      <th>997</th>\n",
       "      <td>2024-07-21 13:10:02</td>\n",
       "      <td>81</td>\n",
       "      <td>День</td>\n",
       "      <td>Sunday</td>\n",
       "      <td>8271.0</td>\n",
       "    </tr>\n",
       "    <tr>\n",
       "      <th>998</th>\n",
       "      <td>2024-07-21 10:52:11</td>\n",
       "      <td>64</td>\n",
       "      <td>Утро</td>\n",
       "      <td>Sunday</td>\n",
       "      <td>2780.0</td>\n",
       "    </tr>\n",
       "    <tr>\n",
       "      <th>999</th>\n",
       "      <td>2024-07-21 10:05:51</td>\n",
       "      <td>51</td>\n",
       "      <td>Утро</td>\n",
       "      <td>Sunday</td>\n",
       "      <td>NaN</td>\n",
       "    </tr>\n",
       "  </tbody>\n",
       "</table>\n",
       "<p>1000 rows × 5 columns</p>\n",
       "</div>"
      ],
      "text/plain": [
       "              post_time  like_count time_of_day day_of_week  \\\n",
       "0   2024-09-18 10:09:16           4        Утро   Wednesday   \n",
       "1   2024-09-18 09:34:20          35        Утро   Wednesday   \n",
       "2   2024-09-18 07:00:00           3        Утро   Wednesday   \n",
       "3   2024-09-18 05:41:00           8        Ночь   Wednesday   \n",
       "4   2024-09-18 04:05:00          51        Ночь   Wednesday   \n",
       "..                  ...         ...         ...         ...   \n",
       "995 2024-07-21 19:59:22          93       Вечер      Sunday   \n",
       "996 2024-07-21 18:51:13          55       Вечер      Sunday   \n",
       "997 2024-07-21 13:10:02          81        День      Sunday   \n",
       "998 2024-07-21 10:52:11          64        Утро      Sunday   \n",
       "999 2024-07-21 10:05:51          51        Утро      Sunday   \n",
       "\n",
       "     time_since_next_post  \n",
       "0                  2096.0  \n",
       "1                  9260.0  \n",
       "2                  4740.0  \n",
       "3                  5760.0  \n",
       "4                  3600.0  \n",
       "..                    ...  \n",
       "995                4089.0  \n",
       "996               20471.0  \n",
       "997                8271.0  \n",
       "998                2780.0  \n",
       "999                   NaN  \n",
       "\n",
       "[1000 rows x 5 columns]"
      ]
     },
     "execution_count": 59,
     "metadata": {},
     "output_type": "execute_result"
    }
   ],
   "source": [
    "# Посмотрим, что получилось\n",
    "data"
   ]
  },
  {
   "cell_type": "markdown",
   "id": "6f2905c4-e8c1-4ae8-bcc7-3e36f1413504",
   "metadata": {},
   "source": [
    "### Проверка зависимости числа лайков от времени суток\n",
    "Проверим, есть ли зависимость числа лайков от времени суток. Воспользуемся дисперсионным анализом."
   ]
  },
  {
   "cell_type": "code",
   "execution_count": 60,
   "id": "896e9bf9-b8df-4b02-9b56-2148806b0dbf",
   "metadata": {},
   "outputs": [
    {
     "data": {
      "image/png": "[encoded data removed]",
      "text/plain": [
       "<Figure size 640x480 with 1 Axes>"
      ]
     },
     "metadata": {},
     "output_type": "display_data"
    }
   ],
   "source": [
    "# Визуализируем зависимость числа лайков от времени суток\n",
    "periods_order = ['Утро', 'День', 'Вечер', 'Ночь']\n",
    "sns.boxplot(x='time_of_day', y='like_count', data=data, order=periods_order)\n",
    "plt.title('Влияние времени суток на количество лайков')\n",
    "plt.show()"
   ]
  },
  {
   "cell_type": "code",
   "execution_count": 61,
   "id": "e54dab47-d30b-47ba-87ee-8ade94bd77c0",
   "metadata": {},
   "outputs": [
    {
     "name": "stdout",
     "output_type": "stream",
     "text": [
      "Statistic: 1.677, p-value: 0.170\n",
      "Не отвергаем нулевую гипотезу: считаем, что дисперсии равны. Применяем ANOVA.\n"
     ]
    }
   ],
   "source": [
    "# Проверим гомогенность дисперсий в группах - условие для применимости дисперсионного анализа\n",
    "# Проведение теста Левена\n",
    "stat, p_value = ss.levene(\n",
    "    data.query(\"time_of_day == 'Утро'\").like_count, \n",
    "    data.query(\"time_of_day == 'День'\").like_count, \n",
    "    data.query(\"time_of_day == 'Вечер'\").like_count,\n",
    "    data.query(\"time_of_day == 'Ночь'\").like_count\n",
    ")\n",
    "\n",
    "# Вывод результатов\n",
    "print(f'Statistic: {stat:.3f}, p-value: {p_value:.3f}')\n",
    "\n",
    "# Интерпретация результатов\n",
    "alpha = 0.05\n",
    "if p_value < alpha:\n",
    "    print(\"Отвергаем нулевую гипотезу: дисперсии не равны. Применяем ANOVA Уэлча.\")\n",
    "else:\n",
    "    print(\"Не отвергаем нулевую гипотезу: считаем, что дисперсии равны. Применяем ANOVA.\")"
   ]
  },
  {
   "cell_type": "code",
   "execution_count": 62,
   "id": "36ebe64b-cbc2-4695-b40c-8879f1642d43",
   "metadata": {},
   "outputs": [
    {
     "name": "stdout",
     "output_type": "stream",
     "text": [
      "Statistic: 3.349, p-value: 0.019\n",
      "Отвергаем нулевую гипотезу: делаем вывод, что среднее хотя бы одной из групп значимо отличается от средних в других группах.\n"
     ]
    }
   ],
   "source": [
    "# Проверим, есть ли отличия между группами с помощью дисперсионного анализа\n",
    "stat, p_value = ss.f_oneway(\n",
    "    data.query(\"time_of_day == 'Утро'\").like_count, \n",
    "    data.query(\"time_of_day == 'День'\").like_count, \n",
    "    data.query(\"time_of_day == 'Вечер'\").like_count,\n",
    "    data.query(\"time_of_day == 'Ночь'\").like_count\n",
    ")\n",
    "\n",
    "# Вывод результатов\n",
    "print(f'Statistic: {stat:.3f}, p-value: {p_value:.3f}')\n",
    "\n",
    "# Интерпретация результатов\n",
    "alpha = 0.05\n",
    "if p_value < alpha:\n",
    "    print(\"Отвергаем нулевую гипотезу: делаем вывод, что среднее хотя бы одной из групп значимо отличается от средних в других группах.\")\n",
    "else:\n",
    "    print(\"Не отвергаем нулевую гипотезу: считаем, что различий между группами нет.\")"
   ]
  },
  {
   "cell_type": "code",
   "execution_count": 63,
   "id": "6b725ca6-c307-435e-b0b8-e059deb5e0a9",
   "metadata": {},
   "outputs": [
    {
     "data": {
      "text/html": [
       "<div>\n",
       "<style scoped>\n",
       "    .dataframe tbody tr th:only-of-type {\n",
       "        vertical-align: middle;\n",
       "    }\n",
       "\n",
       "    .dataframe tbody tr th {\n",
       "        vertical-align: top;\n",
       "    }\n",
       "\n",
       "    .dataframe thead th {\n",
       "        text-align: right;\n",
       "    }\n",
       "</style>\n",
       "<table border=\"1\" class=\"dataframe\">\n",
       "  <thead>\n",
       "    <tr style=\"text-align: right;\">\n",
       "      <th></th>\n",
       "      <th>A</th>\n",
       "      <th>B</th>\n",
       "      <th>mean(A)</th>\n",
       "      <th>mean(B)</th>\n",
       "      <th>diff</th>\n",
       "      <th>se</th>\n",
       "      <th>T</th>\n",
       "      <th>p-tukey</th>\n",
       "      <th>hedges</th>\n",
       "    </tr>\n",
       "  </thead>\n",
       "  <tbody>\n",
       "    <tr>\n",
       "      <th>0</th>\n",
       "      <td>Вечер</td>\n",
       "      <td>День</td>\n",
       "      <td>189.200000</td>\n",
       "      <td>127.011173</td>\n",
       "      <td>62.188827</td>\n",
       "      <td>22.170507</td>\n",
       "      <td>2.805025</td>\n",
       "      <td>0.026334</td>\n",
       "      <td>0.227140</td>\n",
       "    </tr>\n",
       "    <tr>\n",
       "      <th>1</th>\n",
       "      <td>Вечер</td>\n",
       "      <td>Ночь</td>\n",
       "      <td>189.200000</td>\n",
       "      <td>168.072165</td>\n",
       "      <td>21.127835</td>\n",
       "      <td>25.532246</td>\n",
       "      <td>0.827496</td>\n",
       "      <td>0.841437</td>\n",
       "      <td>0.078994</td>\n",
       "    </tr>\n",
       "    <tr>\n",
       "      <th>2</th>\n",
       "      <td>Вечер</td>\n",
       "      <td>Утро</td>\n",
       "      <td>189.200000</td>\n",
       "      <td>130.582960</td>\n",
       "      <td>58.617040</td>\n",
       "      <td>24.624615</td>\n",
       "      <td>2.380425</td>\n",
       "      <td>0.081508</td>\n",
       "      <td>0.209445</td>\n",
       "    </tr>\n",
       "    <tr>\n",
       "      <th>3</th>\n",
       "      <td>День</td>\n",
       "      <td>Ночь</td>\n",
       "      <td>127.011173</td>\n",
       "      <td>168.072165</td>\n",
       "      <td>-41.060992</td>\n",
       "      <td>23.232786</td>\n",
       "      <td>-1.767373</td>\n",
       "      <td>0.289765</td>\n",
       "      <td>-0.167849</td>\n",
       "    </tr>\n",
       "    <tr>\n",
       "      <th>4</th>\n",
       "      <td>День</td>\n",
       "      <td>Утро</td>\n",
       "      <td>127.011173</td>\n",
       "      <td>130.582960</td>\n",
       "      <td>-3.571786</td>\n",
       "      <td>22.231473</td>\n",
       "      <td>-0.160664</td>\n",
       "      <td>0.998524</td>\n",
       "      <td>-0.013939</td>\n",
       "    </tr>\n",
       "    <tr>\n",
       "      <th>5</th>\n",
       "      <td>Ночь</td>\n",
       "      <td>Утро</td>\n",
       "      <td>168.072165</td>\n",
       "      <td>130.582960</td>\n",
       "      <td>37.489205</td>\n",
       "      <td>25.585202</td>\n",
       "      <td>1.465269</td>\n",
       "      <td>0.459017</td>\n",
       "      <td>0.154964</td>\n",
       "    </tr>\n",
       "  </tbody>\n",
       "</table>\n",
       "</div>"
      ],
      "text/plain": [
       "       A     B     mean(A)     mean(B)       diff         se         T  \\\n",
       "0  Вечер  День  189.200000  127.011173  62.188827  22.170507  2.805025   \n",
       "1  Вечер  Ночь  189.200000  168.072165  21.127835  25.532246  0.827496   \n",
       "2  Вечер  Утро  189.200000  130.582960  58.617040  24.624615  2.380425   \n",
       "3   День  Ночь  127.011173  168.072165 -41.060992  23.232786 -1.767373   \n",
       "4   День  Утро  127.011173  130.582960  -3.571786  22.231473 -0.160664   \n",
       "5   Ночь  Утро  168.072165  130.582960  37.489205  25.585202  1.465269   \n",
       "\n",
       "    p-tukey    hedges  \n",
       "0  0.026334  0.227140  \n",
       "1  0.841437  0.078994  \n",
       "2  0.081508  0.209445  \n",
       "3  0.289765 -0.167849  \n",
       "4  0.998524 -0.013939  \n",
       "5  0.459017  0.154964  "
      ]
     },
     "execution_count": 63,
     "metadata": {},
     "output_type": "execute_result"
    }
   ],
   "source": [
    "# Чтобы выявить отличающиеся группы, сравним их попарно с помощью критерия Тьюки\n",
    "pg.pairwise_tukey(data=data, dv=\"like_count\", between=\"time_of_day\")"
   ]
  },
  {
   "cell_type": "markdown",
   "id": "ec613fb4-7194-48f4-b26b-14827550d3d0",
   "metadata": {},
   "source": [
    "Только при одном сравнении p-value меньше 0.05. Можем сделать вывод, что статистически значимо различаются только среднее число лайков вечером и днём (вечером больше).\n",
    "___\n",
    "Проверим, есть ли разница между лайками ночью или вечером и днём или утром с помощью t-теста."
   ]
  },
  {
   "cell_type": "code",
   "execution_count": 64,
   "id": "ed0b7b51-6c1d-4e53-ab12-31f2b5b1a3e6",
   "metadata": {},
   "outputs": [
    {
     "name": "stdout",
     "output_type": "stream",
     "text": [
      "Statistic: 2.087, p-value: 0.149\n",
      "Не отвергаем нулевую гипотезу: считаем, что дисперсии равны. Применяем t-тест.\n"
     ]
    }
   ],
   "source": [
    "# Проверим гомогенность дисперсий в группах - условие для применимости t-теста\n",
    "# Проведение теста Левена\n",
    "stat, p_value = ss.levene( \n",
    "    data.query(\"time_of_day == 'Вечер' | time_of_day == 'Ночь'\").like_count,\n",
    "    data.query(\"time_of_day == 'Утро' | time_of_day == 'День'\").like_count\n",
    ")\n",
    "\n",
    "# Вывод результатов\n",
    "print(f'Statistic: {stat:.3f}, p-value: {p_value:.3f}')\n",
    "\n",
    "# Интерпретация результатов\n",
    "alpha = 0.05\n",
    "if p_value < alpha:\n",
    "    print(\"Отвергаем нулевую гипотезу: дисперсии не равны. Применяем t-тест Уэлча.\")\n",
    "else:\n",
    "    print(\"Не отвергаем нулевую гипотезу: считаем, что дисперсии равны. Применяем t-тест.\")"
   ]
  },
  {
   "cell_type": "code",
   "execution_count": 65,
   "id": "d30145ed-749a-4cc8-9a73-f8413d429965",
   "metadata": {},
   "outputs": [
    {
     "name": "stdout",
     "output_type": "stream",
     "text": [
      "T-статистика: 3.057557189222291, P-значение: 0.0022909330833397533\n",
      "Отвергаем нулевую гипотезу: считаем, что различия между группами есть.\n"
     ]
    }
   ],
   "source": [
    "# Выполнение t-теста\n",
    "t_statistic, p_value = ss.ttest_ind(\n",
    "    data.query(\"time_of_day == 'Вечер' | time_of_day == 'Ночь'\").like_count, \n",
    "    data.query(\"time_of_day == 'Утро' | time_of_day == 'День'\").like_count, \n",
    "    equal_var=True\n",
    ")\n",
    "\n",
    "# Вывод результатов\n",
    "print(f\"T-статистика: {t_statistic}, P-значение: {p_value}\")\n",
    "\n",
    "# Интерпретация результатов\n",
    "alpha = 0.05\n",
    "if p_value < alpha:\n",
    "    print(\"Отвергаем нулевую гипотезу: считаем, что различия между группами есть.\")\n",
    "else:\n",
    "    print(\"Не отвергаем нулевую гипотезу: считаем, что различий между группами нет.\")"
   ]
  },
  {
   "cell_type": "markdown",
   "id": "fdd02147-4a80-4686-b983-c185ad521dbd",
   "metadata": {},
   "source": [
    "Делаем вывод: статистически значимо на число лайков влияет, сделан ли пост утром/днём, либо вечером/ночью (вечером/ночью лайков больше)."
   ]
  },
  {
   "cell_type": "markdown",
   "id": "8e09927b-e990-4be4-ba9c-eeec13a86c2f",
   "metadata": {},
   "source": [
    "### Проверка зависимости числа лайков от дня недели\n",
    "Проверим, есть ли зависимость числа лайков от дня недели. Воспользуемся дисперсионным анализом."
   ]
  },
  {
   "cell_type": "code",
   "execution_count": 66,
   "id": "0f1ace42-9f2c-4e5e-80a1-caed89a26c26",
   "metadata": {},
   "outputs": [
    {
     "data": {
      "image/png": "[encoded data removed]",
      "text/plain": [
       "<Figure size 640x480 with 1 Axes>"
      ]
     },
     "metadata": {},
     "output_type": "display_data"
    }
   ],
   "source": [
    "# Визуализируем зависимость числа лайков от дня недели\n",
    "days_order = ['Monday', 'Tuesday', 'Wednesday', 'Thursday', 'Friday', 'Saturday', 'Sunday']\n",
    "sns.boxplot(x='day_of_week', y='like_count', data=data, order=days_order)\n",
    "plt.title('Влияние дня недели на количество лайков')\n",
    "plt.xticks(rotation=45)\n",
    "plt.show()"
   ]
  },
  {
   "cell_type": "code",
   "execution_count": 67,
   "id": "2f9d271b-0aa8-4b5d-b396-39b470a58573",
   "metadata": {},
   "outputs": [
    {
     "name": "stdout",
     "output_type": "stream",
     "text": [
      "Statistic: 2.519, p-value: 0.020\n",
      "Отвергаем нулевую гипотезу: дисперсии не равны. Применяем ANOVA Уэлча.\n"
     ]
    }
   ],
   "source": [
    "# Проверим гомогенность дисперсий в группах\n",
    "# Проведение теста Левена\n",
    "stat, p_value = ss.levene(\n",
    "    data.query(\"day_of_week == 'Monday'\").like_count, \n",
    "    data.query(\"day_of_week == 'Tuesday'\").like_count, \n",
    "    data.query(\"day_of_week == 'Wednesday'\").like_count,\n",
    "    data.query(\"day_of_week == 'Thursday'\").like_count,\n",
    "    data.query(\"day_of_week == 'Friday'\").like_count,\n",
    "    data.query(\"day_of_week == 'Saturday'\").like_count,\n",
    "    data.query(\"day_of_week == 'Sunday'\").like_count\n",
    ")\n",
    "\n",
    "# Вывод результатов\n",
    "print(f'Statistic: {stat:.3f}, p-value: {p_value:.3f}')\n",
    "\n",
    "# Интерпретация результатов\n",
    "alpha = 0.05\n",
    "if p_value < alpha:\n",
    "    print(\"Отвергаем нулевую гипотезу: дисперсии не равны. Применяем ANOVA Уэлча.\")\n",
    "else:\n",
    "    print(\"Не отвергаем нулевую гипотезу: считаем, что дисперсии равны. Применяем ANOVA.\")"
   ]
  },
  {
   "cell_type": "code",
   "execution_count": 68,
   "id": "9548cd97-6f70-4ad6-a053-3cab033f1948",
   "metadata": {},
   "outputs": [
    {
     "name": "stdout",
     "output_type": "stream",
     "text": [
      "Statistic: 3.033, p-value: 0.006\n",
      "Отвергаем нулевую гипотезу: делаем вывод, что среднее хотя бы одной из групп значимо отличается от средних в других группах.\n"
     ]
    }
   ],
   "source": [
    "res = pg.welch_anova(data=data, dv=\"like_count\", between=\"day_of_week\")\n",
    "\n",
    "# Вывод результатов\n",
    "print(f'Statistic: {res['F'].values[0]:.3f}, p-value: {res['p-unc'].values[0]:.3f}')\n",
    "\n",
    "# Интерпретация результатов\n",
    "alpha = 0.05\n",
    "if p_value < alpha:\n",
    "    print(\"Отвергаем нулевую гипотезу: делаем вывод, что среднее хотя бы одной из групп значимо отличается от средних в других группах.\")\n",
    "else:\n",
    "    print(\"Не отвергаем нулевую гипотезу: считаем, что различий между группами нет.\")"
   ]
  },
  {
   "cell_type": "code",
   "execution_count": 69,
   "id": "7200085e-085c-4b6b-ab79-02b711bd4d44",
   "metadata": {},
   "outputs": [
    {
     "data": {
      "text/html": [
       "<div>\n",
       "<style scoped>\n",
       "    .dataframe tbody tr th:only-of-type {\n",
       "        vertical-align: middle;\n",
       "    }\n",
       "\n",
       "    .dataframe tbody tr th {\n",
       "        vertical-align: top;\n",
       "    }\n",
       "\n",
       "    .dataframe thead th {\n",
       "        text-align: right;\n",
       "    }\n",
       "</style>\n",
       "<table border=\"1\" class=\"dataframe\">\n",
       "  <thead>\n",
       "    <tr style=\"text-align: right;\">\n",
       "      <th></th>\n",
       "      <th>A</th>\n",
       "      <th>B</th>\n",
       "      <th>mean(A)</th>\n",
       "      <th>mean(B)</th>\n",
       "      <th>diff</th>\n",
       "      <th>se</th>\n",
       "      <th>T</th>\n",
       "      <th>p-tukey</th>\n",
       "      <th>hedges</th>\n",
       "    </tr>\n",
       "  </thead>\n",
       "  <tbody>\n",
       "    <tr>\n",
       "      <th>0</th>\n",
       "      <td>Friday</td>\n",
       "      <td>Monday</td>\n",
       "      <td>122.743056</td>\n",
       "      <td>161.893082</td>\n",
       "      <td>-39.150026</td>\n",
       "      <td>29.916571</td>\n",
       "      <td>-1.308640</td>\n",
       "      <td>0.848029</td>\n",
       "      <td>-0.164003</td>\n",
       "    </tr>\n",
       "    <tr>\n",
       "      <th>1</th>\n",
       "      <td>Friday</td>\n",
       "      <td>Saturday</td>\n",
       "      <td>122.743056</td>\n",
       "      <td>188.187500</td>\n",
       "      <td>-65.444444</td>\n",
       "      <td>29.872107</td>\n",
       "      <td>-2.190821</td>\n",
       "      <td>0.301334</td>\n",
       "      <td>-0.242457</td>\n",
       "    </tr>\n",
       "    <tr>\n",
       "      <th>2</th>\n",
       "      <td>Friday</td>\n",
       "      <td>Sunday</td>\n",
       "      <td>122.743056</td>\n",
       "      <td>203.318841</td>\n",
       "      <td>-80.575785</td>\n",
       "      <td>30.979476</td>\n",
       "      <td>-2.600941</td>\n",
       "      <td>0.126706</td>\n",
       "      <td>-0.278893</td>\n",
       "    </tr>\n",
       "    <tr>\n",
       "      <th>3</th>\n",
       "      <td>Friday</td>\n",
       "      <td>Thursday</td>\n",
       "      <td>122.743056</td>\n",
       "      <td>119.224000</td>\n",
       "      <td>3.519056</td>\n",
       "      <td>31.791439</td>\n",
       "      <td>0.110692</td>\n",
       "      <td>1.000000</td>\n",
       "      <td>0.019516</td>\n",
       "    </tr>\n",
       "    <tr>\n",
       "      <th>4</th>\n",
       "      <td>Friday</td>\n",
       "      <td>Tuesday</td>\n",
       "      <td>122.743056</td>\n",
       "      <td>105.878571</td>\n",
       "      <td>16.864484</td>\n",
       "      <td>30.866274</td>\n",
       "      <td>0.546373</td>\n",
       "      <td>0.998113</td>\n",
       "      <td>0.104350</td>\n",
       "    </tr>\n",
       "    <tr>\n",
       "      <th>5</th>\n",
       "      <td>Friday</td>\n",
       "      <td>Wednesday</td>\n",
       "      <td>122.743056</td>\n",
       "      <td>137.731343</td>\n",
       "      <td>-14.988288</td>\n",
       "      <td>31.214692</td>\n",
       "      <td>-0.480168</td>\n",
       "      <td>0.999093</td>\n",
       "      <td>-0.066835</td>\n",
       "    </tr>\n",
       "    <tr>\n",
       "      <th>6</th>\n",
       "      <td>Monday</td>\n",
       "      <td>Saturday</td>\n",
       "      <td>161.893082</td>\n",
       "      <td>188.187500</td>\n",
       "      <td>-26.294418</td>\n",
       "      <td>29.121054</td>\n",
       "      <td>-0.902935</td>\n",
       "      <td>0.972134</td>\n",
       "      <td>-0.086677</td>\n",
       "    </tr>\n",
       "    <tr>\n",
       "      <th>7</th>\n",
       "      <td>Monday</td>\n",
       "      <td>Sunday</td>\n",
       "      <td>161.893082</td>\n",
       "      <td>203.318841</td>\n",
       "      <td>-41.425759</td>\n",
       "      <td>30.255924</td>\n",
       "      <td>-1.369178</td>\n",
       "      <td>0.818195</td>\n",
       "      <td>-0.128744</td>\n",
       "    </tr>\n",
       "    <tr>\n",
       "      <th>8</th>\n",
       "      <td>Monday</td>\n",
       "      <td>Thursday</td>\n",
       "      <td>161.893082</td>\n",
       "      <td>119.224000</td>\n",
       "      <td>42.669082</td>\n",
       "      <td>31.086792</td>\n",
       "      <td>1.372579</td>\n",
       "      <td>0.816438</td>\n",
       "      <td>0.179934</td>\n",
       "    </tr>\n",
       "    <tr>\n",
       "      <th>9</th>\n",
       "      <td>Monday</td>\n",
       "      <td>Tuesday</td>\n",
       "      <td>161.893082</td>\n",
       "      <td>105.878571</td>\n",
       "      <td>56.014510</td>\n",
       "      <td>30.140005</td>\n",
       "      <td>1.858477</td>\n",
       "      <td>0.508650</td>\n",
       "      <td>0.253151</td>\n",
       "    </tr>\n",
       "    <tr>\n",
       "      <th>10</th>\n",
       "      <td>Monday</td>\n",
       "      <td>Wednesday</td>\n",
       "      <td>161.893082</td>\n",
       "      <td>137.731343</td>\n",
       "      <td>24.161738</td>\n",
       "      <td>30.496721</td>\n",
       "      <td>0.792273</td>\n",
       "      <td>0.985728</td>\n",
       "      <td>0.089826</td>\n",
       "    </tr>\n",
       "    <tr>\n",
       "      <th>11</th>\n",
       "      <td>Saturday</td>\n",
       "      <td>Sunday</td>\n",
       "      <td>188.187500</td>\n",
       "      <td>203.318841</td>\n",
       "      <td>-15.131341</td>\n",
       "      <td>30.211960</td>\n",
       "      <td>-0.500839</td>\n",
       "      <td>0.998846</td>\n",
       "      <td>-0.043758</td>\n",
       "    </tr>\n",
       "    <tr>\n",
       "      <th>12</th>\n",
       "      <td>Saturday</td>\n",
       "      <td>Thursday</td>\n",
       "      <td>188.187500</td>\n",
       "      <td>119.224000</td>\n",
       "      <td>68.963500</td>\n",
       "      <td>31.044004</td>\n",
       "      <td>2.221476</td>\n",
       "      <td>0.284786</td>\n",
       "      <td>0.254930</td>\n",
       "    </tr>\n",
       "    <tr>\n",
       "      <th>13</th>\n",
       "      <td>Saturday</td>\n",
       "      <td>Tuesday</td>\n",
       "      <td>188.187500</td>\n",
       "      <td>105.878571</td>\n",
       "      <td>82.308929</td>\n",
       "      <td>30.095871</td>\n",
       "      <td>2.734891</td>\n",
       "      <td>0.090804</td>\n",
       "      <td>0.322659</td>\n",
       "    </tr>\n",
       "    <tr>\n",
       "      <th>14</th>\n",
       "      <td>Saturday</td>\n",
       "      <td>Wednesday</td>\n",
       "      <td>188.187500</td>\n",
       "      <td>137.731343</td>\n",
       "      <td>50.456157</td>\n",
       "      <td>30.453105</td>\n",
       "      <td>1.656848</td>\n",
       "      <td>0.645111</td>\n",
       "      <td>0.169397</td>\n",
       "    </tr>\n",
       "    <tr>\n",
       "      <th>15</th>\n",
       "      <td>Sunday</td>\n",
       "      <td>Thursday</td>\n",
       "      <td>203.318841</td>\n",
       "      <td>119.224000</td>\n",
       "      <td>84.094841</td>\n",
       "      <td>32.110985</td>\n",
       "      <td>2.618881</td>\n",
       "      <td>0.121346</td>\n",
       "      <td>0.289128</td>\n",
       "    </tr>\n",
       "    <tr>\n",
       "      <th>16</th>\n",
       "      <td>Sunday</td>\n",
       "      <td>Tuesday</td>\n",
       "      <td>203.318841</td>\n",
       "      <td>105.878571</td>\n",
       "      <td>97.440269</td>\n",
       "      <td>31.195298</td>\n",
       "      <td>3.123556</td>\n",
       "      <td>0.030287</td>\n",
       "      <td>0.355287</td>\n",
       "    </tr>\n",
       "    <tr>\n",
       "      <th>17</th>\n",
       "      <td>Sunday</td>\n",
       "      <td>Wednesday</td>\n",
       "      <td>203.318841</td>\n",
       "      <td>137.731343</td>\n",
       "      <td>65.587497</td>\n",
       "      <td>31.540082</td>\n",
       "      <td>2.079497</td>\n",
       "      <td>0.365692</td>\n",
       "      <td>0.206349</td>\n",
       "    </tr>\n",
       "    <tr>\n",
       "      <th>18</th>\n",
       "      <td>Thursday</td>\n",
       "      <td>Tuesday</td>\n",
       "      <td>119.224000</td>\n",
       "      <td>105.878571</td>\n",
       "      <td>13.345429</td>\n",
       "      <td>32.001786</td>\n",
       "      <td>0.417021</td>\n",
       "      <td>0.999596</td>\n",
       "      <td>0.087862</td>\n",
       "    </tr>\n",
       "    <tr>\n",
       "      <th>19</th>\n",
       "      <td>Thursday</td>\n",
       "      <td>Wednesday</td>\n",
       "      <td>119.224000</td>\n",
       "      <td>137.731343</td>\n",
       "      <td>-18.507343</td>\n",
       "      <td>32.337972</td>\n",
       "      <td>-0.572310</td>\n",
       "      <td>0.997553</td>\n",
       "      <td>-0.083634</td>\n",
       "    </tr>\n",
       "    <tr>\n",
       "      <th>20</th>\n",
       "      <td>Tuesday</td>\n",
       "      <td>Wednesday</td>\n",
       "      <td>105.878571</td>\n",
       "      <td>137.731343</td>\n",
       "      <td>-31.852772</td>\n",
       "      <td>31.428899</td>\n",
       "      <td>-1.013487</td>\n",
       "      <td>0.950989</td>\n",
       "      <td>-0.156499</td>\n",
       "    </tr>\n",
       "  </tbody>\n",
       "</table>\n",
       "</div>"
      ],
      "text/plain": [
       "           A          B     mean(A)     mean(B)       diff         se  \\\n",
       "0     Friday     Monday  122.743056  161.893082 -39.150026  29.916571   \n",
       "1     Friday   Saturday  122.743056  188.187500 -65.444444  29.872107   \n",
       "2     Friday     Sunday  122.743056  203.318841 -80.575785  30.979476   \n",
       "3     Friday   Thursday  122.743056  119.224000   3.519056  31.791439   \n",
       "4     Friday    Tuesday  122.743056  105.878571  16.864484  30.866274   \n",
       "5     Friday  Wednesday  122.743056  137.731343 -14.988288  31.214692   \n",
       "6     Monday   Saturday  161.893082  188.187500 -26.294418  29.121054   \n",
       "7     Monday     Sunday  161.893082  203.318841 -41.425759  30.255924   \n",
       "8     Monday   Thursday  161.893082  119.224000  42.669082  31.086792   \n",
       "9     Monday    Tuesday  161.893082  105.878571  56.014510  30.140005   \n",
       "10    Monday  Wednesday  161.893082  137.731343  24.161738  30.496721   \n",
       "11  Saturday     Sunday  188.187500  203.318841 -15.131341  30.211960   \n",
       "12  Saturday   Thursday  188.187500  119.224000  68.963500  31.044004   \n",
       "13  Saturday    Tuesday  188.187500  105.878571  82.308929  30.095871   \n",
       "14  Saturday  Wednesday  188.187500  137.731343  50.456157  30.453105   \n",
       "15    Sunday   Thursday  203.318841  119.224000  84.094841  32.110985   \n",
       "16    Sunday    Tuesday  203.318841  105.878571  97.440269  31.195298   \n",
       "17    Sunday  Wednesday  203.318841  137.731343  65.587497  31.540082   \n",
       "18  Thursday    Tuesday  119.224000  105.878571  13.345429  32.001786   \n",
       "19  Thursday  Wednesday  119.224000  137.731343 -18.507343  32.337972   \n",
       "20   Tuesday  Wednesday  105.878571  137.731343 -31.852772  31.428899   \n",
       "\n",
       "           T   p-tukey    hedges  \n",
       "0  -1.308640  0.848029 -0.164003  \n",
       "1  -2.190821  0.301334 -0.242457  \n",
       "2  -2.600941  0.126706 -0.278893  \n",
       "3   0.110692  1.000000  0.019516  \n",
       "4   0.546373  0.998113  0.104350  \n",
       "5  -0.480168  0.999093 -0.066835  \n",
       "6  -0.902935  0.972134 -0.086677  \n",
       "7  -1.369178  0.818195 -0.128744  \n",
       "8   1.372579  0.816438  0.179934  \n",
       "9   1.858477  0.508650  0.253151  \n",
       "10  0.792273  0.985728  0.089826  \n",
       "11 -0.500839  0.998846 -0.043758  \n",
       "12  2.221476  0.284786  0.254930  \n",
       "13  2.734891  0.090804  0.322659  \n",
       "14  1.656848  0.645111  0.169397  \n",
       "15  2.618881  0.121346  0.289128  \n",
       "16  3.123556  0.030287  0.355287  \n",
       "17  2.079497  0.365692  0.206349  \n",
       "18  0.417021  0.999596  0.087862  \n",
       "19 -0.572310  0.997553 -0.083634  \n",
       "20 -1.013487  0.950989 -0.156499  "
      ]
     },
     "execution_count": 69,
     "metadata": {},
     "output_type": "execute_result"
    }
   ],
   "source": [
    "# Чтобы выявить отличающиеся группы, сравним их попарно с помощью критерия Тьюки\n",
    "pg.pairwise_tukey(data=data, dv=\"like_count\", between=\"day_of_week\")"
   ]
  },
  {
   "cell_type": "markdown",
   "id": "71099338-166c-4383-bf7f-a7e16be90478",
   "metadata": {},
   "source": [
    "Только при одном сравнении p-value меньше 0.05. Можем сделать вывод, что статистически значимо различаются только среднее число лайков в воскресенье и во вторник (в воскресенье больше).\n",
    "___\n",
    "Проверим, есть ли разница между лайками в будни и в выходные с помощью t-теста."
   ]
  },
  {
   "cell_type": "code",
   "execution_count": 70,
   "id": "9fb11b7a-adbf-4789-baca-f317be614066",
   "metadata": {},
   "outputs": [
    {
     "name": "stdout",
     "output_type": "stream",
     "text": [
      "Statistic: 10.810, p-value: 0.001\n",
      "Отвергаем нулевую гипотезу: дисперсии не равны. Применяем t-тест Уэлча.\n"
     ]
    }
   ],
   "source": [
    "# Проверим гомогенность дисперсий в группах - условие для применимости t-теста\n",
    "# Проведение теста Левена\n",
    "stat, p_value = ss.levene( \n",
    "    data.query(\"day_of_week == 'Saturday' | day_of_week == 'Sunday'\").like_count,\n",
    "    data.query(\"day_of_week != 'Saturday' & day_of_week != 'Sunday'\").like_count\n",
    ")\n",
    "\n",
    "# Вывод результатов\n",
    "print(f'Statistic: {stat:.3f}, p-value: {p_value:.3f}')\n",
    "\n",
    "# Интерпретация результатов\n",
    "alpha = 0.05\n",
    "if p_value < alpha:\n",
    "    print(\"Отвергаем нулевую гипотезу: дисперсии не равны. Применяем t-тест Уэлча.\")\n",
    "else:\n",
    "    print(\"Не отвергаем нулевую гипотезу: считаем, что дисперсии равны. Применяем t-тест.\")"
   ]
  },
  {
   "cell_type": "code",
   "execution_count": 71,
   "id": "d97679e9-5ee4-42f4-bff8-114269bef129",
   "metadata": {},
   "outputs": [
    {
     "name": "stdout",
     "output_type": "stream",
     "text": [
      "T-статистика: 3.005742657441415, P-значение: 0.0028170592950059635\n",
      "Отвергаем нулевую гипотезу: считаем, что различия между группами есть.\n"
     ]
    }
   ],
   "source": [
    "# Выполнение t-теста\n",
    "t_statistic, p_value = ss.ttest_ind(\n",
    "    data.query(\"day_of_week == 'Saturday' | day_of_week == 'Sunday'\").like_count, \n",
    "    data.query(\"day_of_week != 'Saturday' & day_of_week != 'Sunday'\").like_count, \n",
    "    equal_var=False\n",
    ")\n",
    "\n",
    "# Вывод результатов\n",
    "print(f\"T-статистика: {t_statistic}, P-значение: {p_value}\")\n",
    "\n",
    "# Интерпретация результатов\n",
    "alpha = 0.05\n",
    "if p_value < alpha:\n",
    "    print(\"Отвергаем нулевую гипотезу: считаем, что различия между группами есть.\")\n",
    "else:\n",
    "    print(\"Не отвергаем нулевую гипотезу: считаем, что различий между группами нет.\")"
   ]
  },
  {
   "cell_type": "markdown",
   "id": "5a105b99-6fcf-47ff-88f1-51633aa2bc9b",
   "metadata": {},
   "source": [
    "Делаем вывод: статистически значимо на число лайков влияет, сделан ли пост в будни, либо в выходные (в выходные лайков больше)."
   ]
  },
  {
   "cell_type": "markdown",
   "id": "6c8af491-444b-40f1-9c6e-8714327c6c41",
   "metadata": {},
   "source": [
    "### Проверка зависимости числа лайков от времени между постами\n",
    "Проверим, есть ли зависимость числа лайков от дня недели. Воспользуемся линейной регрессией."
   ]
  },
  {
   "cell_type": "code",
   "execution_count": 72,
   "id": "d0b30ef2-14cb-46d0-b937-528b6f756c58",
   "metadata": {},
   "outputs": [
    {
     "data": {
      "image/png": "[encoded data removed]",
      "text/plain": [
       "<Figure size 640x480 with 1 Axes>"
      ]
     },
     "metadata": {},
     "output_type": "display_data"
    }
   ],
   "source": [
    "# Визуализируем зависимость числа лайков от времени с последнего поста\n",
    "sns.scatterplot(x='time_since_next_post', y='like_count', data=data)\n",
    "plt.title('Влияние промежутка между постами на количество лайков')\n",
    "plt.xlabel('Промежуток между постами (в секундах)')\n",
    "plt.ylabel('Количество лайков')\n",
    "plt.show()"
   ]
  },
  {
   "cell_type": "code",
   "execution_count": 73,
   "id": "39280ef5-20b1-432a-857b-cf2163ee6d52",
   "metadata": {},
   "outputs": [
    {
     "name": "stdout",
     "output_type": "stream",
     "text": [
      "                            OLS Regression Results                            \n",
      "==============================================================================\n",
      "Dep. Variable:             like_count   R-squared:                       0.000\n",
      "Model:                            OLS   Adj. R-squared:                 -0.001\n",
      "Method:                 Least Squares   F-statistic:                    0.3848\n",
      "Date:                Thu, 19 Sep 2024   Prob (F-statistic):              0.535\n",
      "Time:                        11:49:19   Log-Likelihood:                -6978.2\n",
      "No. Observations:                 999   AIC:                         1.396e+04\n",
      "Df Residuals:                     997   BIC:                         1.397e+04\n",
      "Df Model:                           1                                         \n",
      "Covariance Type:            nonrobust                                         \n",
      "========================================================================================\n",
      "                           coef    std err          t      P>|t|      [0.025      0.975]\n",
      "----------------------------------------------------------------------------------------\n",
      "const                  154.4011     11.047     13.977      0.000     132.723     176.079\n",
      "time_since_next_post    -0.0009      0.001     -0.620      0.535      -0.004       0.002\n",
      "==============================================================================\n",
      "Omnibus:                     1028.664   Durbin-Watson:                   1.830\n",
      "Prob(Omnibus):                  0.000   Jarque-Bera (JB):            49707.054\n",
      "Skew:                           4.950   Prob(JB):                         0.00\n",
      "Kurtosis:                      36.108   Cond. No.                     1.03e+04\n",
      "==============================================================================\n",
      "\n",
      "Notes:\n",
      "[1] Standard Errors assume that the covariance matrix of the errors is correctly specified.\n",
      "[2] The condition number is large, 1.03e+04. This might indicate that there are\n",
      "strong multicollinearity or other numerical problems.\n"
     ]
    }
   ],
   "source": [
    "# Определяем переменные\n",
    "X = data.dropna()['time_since_next_post']\n",
    "Y = data.dropna()['like_count']\n",
    "\n",
    "# Добавляем константу для модели\n",
    "X = sm.add_constant(X)\n",
    "\n",
    "# Создаем модель\n",
    "model = sm.OLS(Y, X).fit()\n",
    "\n",
    "# Выводим результаты\n",
    "print(model.summary())"
   ]
  },
  {
   "cell_type": "markdown",
   "id": "8e265597-fc5c-4755-bac6-da7863ba8e42",
   "metadata": {},
   "source": [
    "P-value > 0.05 (0.535), значит мы не можем отклонить нулевую гипотезу и считаем, что связи между переменными нет.  \n",
    "Кроме того, коэффициент детерминации R-squared практически равен 0 - это значит, что модель не объясняет вариацию зависимой переменной."
   ]
  },
  {
   "cell_type": "markdown",
   "id": "5d9281d0-cc1b-48a6-a20b-09f6428c524f",
   "metadata": {},
   "source": [
    "## Анализ совместного влияния дня недели и времени суток на число лайков\n",
    "Введём новые группы: является ли день выходным, и опубликован ли пост поздно (вечером/ночью). Посмотрим их совместное влияние на число лайков с помощью многофакторного дисперсионного анализа. "
   ]
  },
  {
   "cell_type": "code",
   "execution_count": 74,
   "id": "1f9a4b7a-be62-45d5-b790-c15be33f8dbc",
   "metadata": {},
   "outputs": [],
   "source": [
    "# Добавим столбцы, показывающие, является ли день выходным, а пост поздним\n",
    "data['is_weekend'] = np.where(\n",
    "    (data.day_of_week == 'Saturday') | (data.day_of_week == 'Sunday'),\n",
    "    'weekend',\n",
    "    'weekday'\n",
    ")\n",
    "data['is_late_post'] = np.where(\n",
    "    (data.time_of_day == 'Вечер') | (data.time_of_day == 'Ночь'),\n",
    "    'late_post',\n",
    "    'early_post'\n",
    ")"
   ]
  },
  {
   "cell_type": "code",
   "execution_count": 81,
   "id": "de374a64-fd62-48ce-a01b-6b770b9b41e6",
   "metadata": {},
   "outputs": [
    {
     "name": "stdout",
     "output_type": "stream",
     "text": [
      "                               sum_sq     df          F    PR(>F)\n",
      "is_weekend               8.952197e+05    1.0  13.358294  0.000271\n",
      "is_late_post             6.532186e+05    1.0   9.747200  0.001848\n",
      "is_weekend:is_late_post  4.569662e+04    1.0   0.681876  0.409139\n",
      "Residual                 6.674796e+07  996.0        NaN       NaN\n"
     ]
    }
   ],
   "source": [
    "# Выполним многофакторный дисперсионный анализ (равенство дисперсий мы проверяли ранее)\n",
    "# Модель OLS\n",
    "model = ols('like_count ~ is_weekend * is_late_post', data=data).fit()\n",
    "\n",
    "# Выполнение ANOVA Уэлча\n",
    "anova_table = sm.stats.anova_lm(model, typ=2)\n",
    "\n",
    "print(anova_table)"
   ]
  },
  {
   "cell_type": "markdown",
   "id": "eaa4f3b3-1f5d-4dc3-b8ae-d472510640e8",
   "metadata": {},
   "source": [
    "Можем сделать вывод, что факторы влияют на зависимую переменную (p-value < 0.05), а вот их совместное влияние статистически не значимо (p-value > 0.05)."
   ]
  },
  {
   "cell_type": "markdown",
   "id": "6bf9b770-743c-4c26-90a6-dbd88fd66c46",
   "metadata": {},
   "source": [
    "## Выводы\n",
    "Статистически значимого влияния времени с последнего поста на число лайков нет.  \n",
    "Важно, сделан ли пост в выходные, или в будни - больше лайков в выходные; и поздно (вечером/ночью) или рано (утром/днём) - больше лайков поздно."
   ]
  }
 ],
 "metadata": {
  "kernelspec": {
   "display_name": "Python 3 (ipykernel)",
   "language": "python",
   "name": "python3"
  },
  "language_info": {
   "codemirror_mode": {
    "name": "ipython",
    "version": 3
   },
   "file_extension": ".py",
   "mimetype": "text/x-python",
   "name": "python",
   "nbconvert_exporter": "python",
   "pygments_lexer": "ipython3",
   "version": "3.12.4"
  }
 },
 "nbformat": 4,
 "nbformat_minor": 5
}
